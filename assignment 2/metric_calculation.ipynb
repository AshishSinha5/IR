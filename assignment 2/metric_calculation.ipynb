{
 "cells": [
  {
   "cell_type": "code",
   "execution_count": 63,
   "metadata": {},
   "outputs": [],
   "source": [
    "import re\n",
    "import pandas as pd\n",
    "import numpy as np"
   ]
  },
  {
   "cell_type": "code",
   "execution_count": 64,
   "metadata": {},
   "outputs": [],
   "source": [
    "import json"
   ]
  },
  {
   "cell_type": "code",
   "execution_count": 81,
   "metadata": {},
   "outputs": [],
   "source": [
    "filtered_df = pd.read_csv(\"filtered_news_cat.csv\")"
   ]
  },
  {
   "cell_type": "code",
   "execution_count": 82,
   "metadata": {},
   "outputs": [
    {
     "data": {
      "text/html": [
       "<div>\n",
       "<style scoped>\n",
       "    .dataframe tbody tr th:only-of-type {\n",
       "        vertical-align: middle;\n",
       "    }\n",
       "\n",
       "    .dataframe tbody tr th {\n",
       "        vertical-align: top;\n",
       "    }\n",
       "\n",
       "    .dataframe thead th {\n",
       "        text-align: right;\n",
       "    }\n",
       "</style>\n",
       "<table border=\"1\" class=\"dataframe\">\n",
       "  <thead>\n",
       "    <tr style=\"text-align: right;\">\n",
       "      <th></th>\n",
       "      <th>short_description</th>\n",
       "    </tr>\n",
       "  </thead>\n",
       "  <tbody>\n",
       "    <tr>\n",
       "      <th>0</th>\n",
       "      <td>One of the country's most bizarre criminal cas...</td>\n",
       "    </tr>\n",
       "    <tr>\n",
       "      <th>1</th>\n",
       "      <td>While rightfully condemning the seven governor...</td>\n",
       "    </tr>\n",
       "    <tr>\n",
       "      <th>2</th>\n",
       "      <td>And now it's national news.</td>\n",
       "    </tr>\n",
       "    <tr>\n",
       "      <th>3</th>\n",
       "      <td>\"I can assure you that we have only just begun...</td>\n",
       "    </tr>\n",
       "    <tr>\n",
       "      <th>4</th>\n",
       "      <td>The shots fired by 58-year-old Randal Ratledge...</td>\n",
       "    </tr>\n",
       "  </tbody>\n",
       "</table>\n",
       "</div>"
      ],
      "text/plain": [
       "                                   short_description\n",
       "0  One of the country's most bizarre criminal cas...\n",
       "1  While rightfully condemning the seven governor...\n",
       "2                        And now it's national news.\n",
       "3  \"I can assure you that we have only just begun...\n",
       "4  The shots fired by 58-year-old Randal Ratledge..."
      ]
     },
     "execution_count": 82,
     "metadata": {},
     "output_type": "execute_result"
    }
   ],
   "source": [
    "filtered_df.head()"
   ]
  },
  {
   "cell_type": "markdown",
   "metadata": {},
   "source": [
    "# Query 1 \n",
    "### short_description: united states"
   ]
  },
  {
   "cell_type": "code",
   "execution_count": 186,
   "metadata": {},
   "outputs": [],
   "source": [
    "re_output = filtered_df[filtered_df['short_description'].str.contains('(?:^|\\W)united states(?:$|\\W)',regex=True, na=False, case = False)]"
   ]
  },
  {
   "cell_type": "code",
   "execution_count": 187,
   "metadata": {},
   "outputs": [
    {
     "data": {
      "text/html": [
       "<div>\n",
       "<style scoped>\n",
       "    .dataframe tbody tr th:only-of-type {\n",
       "        vertical-align: middle;\n",
       "    }\n",
       "\n",
       "    .dataframe tbody tr th {\n",
       "        vertical-align: top;\n",
       "    }\n",
       "\n",
       "    .dataframe thead th {\n",
       "        text-align: right;\n",
       "    }\n",
       "</style>\n",
       "<table border=\"1\" class=\"dataframe\">\n",
       "  <thead>\n",
       "    <tr style=\"text-align: right;\">\n",
       "      <th></th>\n",
       "      <th>short_description</th>\n",
       "    </tr>\n",
       "  </thead>\n",
       "  <tbody>\n",
       "    <tr>\n",
       "      <th>324</th>\n",
       "      <td>Zambrano’s death was among a series of police ...</td>\n",
       "    </tr>\n",
       "    <tr>\n",
       "      <th>379</th>\n",
       "      <td>\"The FBI remains concerned about people overse...</td>\n",
       "    </tr>\n",
       "    <tr>\n",
       "      <th>610</th>\n",
       "      <td>Artan’s actions fit the pattern of lone-wolf m...</td>\n",
       "    </tr>\n",
       "    <tr>\n",
       "      <th>702</th>\n",
       "      <td>Since the beginning of the United States' econ...</td>\n",
       "    </tr>\n",
       "    <tr>\n",
       "      <th>1270</th>\n",
       "      <td>The British singer-songwriter has been touring...</td>\n",
       "    </tr>\n",
       "    <tr>\n",
       "      <th>1597</th>\n",
       "      <td>“There is no bigger mistake than the United St...</td>\n",
       "    </tr>\n",
       "    <tr>\n",
       "      <th>1644</th>\n",
       "      <td>The visit is aimed at encouraging North Korea ...</td>\n",
       "    </tr>\n",
       "    <tr>\n",
       "      <th>1653</th>\n",
       "      <td>\"I think it’s impossible to move on without Am...</td>\n",
       "    </tr>\n",
       "    <tr>\n",
       "      <th>1661</th>\n",
       "      <td>The United States needs to step up to the occa...</td>\n",
       "    </tr>\n",
       "    <tr>\n",
       "      <th>1855</th>\n",
       "      <td>The United States has extraordinary influence ...</td>\n",
       "    </tr>\n",
       "    <tr>\n",
       "      <th>2248</th>\n",
       "      <td>Pyongyang condemned recent joint military exer...</td>\n",
       "    </tr>\n",
       "    <tr>\n",
       "      <th>2270</th>\n",
       "      <td>The move further isolated the United States.</td>\n",
       "    </tr>\n",
       "    <tr>\n",
       "      <th>2341</th>\n",
       "      <td>The move comes a few days after the Guatemalan...</td>\n",
       "    </tr>\n",
       "    <tr>\n",
       "      <th>2417</th>\n",
       "      <td>Trump said Palestinians snubbed the United Sta...</td>\n",
       "    </tr>\n",
       "    <tr>\n",
       "      <th>2422</th>\n",
       "      <td>North Korea has told the United States it is p...</td>\n",
       "    </tr>\n",
       "    <tr>\n",
       "      <th>2717</th>\n",
       "      <td>In 2013, after months of drafting, hearings an...</td>\n",
       "    </tr>\n",
       "    <tr>\n",
       "      <th>2855</th>\n",
       "      <td>The number of times I would’ve been expected t...</td>\n",
       "    </tr>\n",
       "    <tr>\n",
       "      <th>2911</th>\n",
       "      <td>I had barely touched down in California when i...</td>\n",
       "    </tr>\n",
       "    <tr>\n",
       "      <th>2994</th>\n",
       "      <td>It is evident that the United States governmen...</td>\n",
       "    </tr>\n",
       "    <tr>\n",
       "      <th>3058</th>\n",
       "      <td>The flag is a symbolic representation of the n...</td>\n",
       "    </tr>\n",
       "    <tr>\n",
       "      <th>3095</th>\n",
       "      <td>\"You folks are taking a look at the most prepa...</td>\n",
       "    </tr>\n",
       "    <tr>\n",
       "      <th>3332</th>\n",
       "      <td>He said the United States \"needs a good 'shutd...</td>\n",
       "    </tr>\n",
       "    <tr>\n",
       "      <th>3355</th>\n",
       "      <td>Three weeks from today, Americans finally will...</td>\n",
       "    </tr>\n",
       "    <tr>\n",
       "      <th>3412</th>\n",
       "      <td>The president of the United States loves Musli...</td>\n",
       "    </tr>\n",
       "    <tr>\n",
       "      <th>3462</th>\n",
       "      <td>For 150 years, since the Emancipation Proclama...</td>\n",
       "    </tr>\n",
       "    <tr>\n",
       "      <th>3502</th>\n",
       "      <td>Every year, around this time, as the United St...</td>\n",
       "    </tr>\n",
       "    <tr>\n",
       "      <th>3560</th>\n",
       "      <td>Nothing says United States of America like a b...</td>\n",
       "    </tr>\n",
       "    <tr>\n",
       "      <th>3603</th>\n",
       "      <td>For the third year in a row, Washington, D.C.,...</td>\n",
       "    </tr>\n",
       "    <tr>\n",
       "      <th>3705</th>\n",
       "      <td>After three years of declining sales, shipment...</td>\n",
       "    </tr>\n",
       "    <tr>\n",
       "      <th>3873</th>\n",
       "      <td>Unemployment in the United States has steadily...</td>\n",
       "    </tr>\n",
       "    <tr>\n",
       "      <th>4064</th>\n",
       "      <td>The strength of organized labor in the United ...</td>\n",
       "    </tr>\n",
       "    <tr>\n",
       "      <th>4127</th>\n",
       "      <td>While a dollar bill looks and feels the same a...</td>\n",
       "    </tr>\n",
       "    <tr>\n",
       "      <th>4149</th>\n",
       "      <td>Lagarde said fiscal problems in developed nati...</td>\n",
       "    </tr>\n",
       "    <tr>\n",
       "      <th>4301</th>\n",
       "      <td>According to a recent study, the city with the...</td>\n",
       "    </tr>\n",
       "    <tr>\n",
       "      <th>4317</th>\n",
       "      <td>These are the countries where workers get the ...</td>\n",
       "    </tr>\n",
       "  </tbody>\n",
       "</table>\n",
       "</div>"
      ],
      "text/plain": [
       "                                      short_description\n",
       "324   Zambrano’s death was among a series of police ...\n",
       "379   \"The FBI remains concerned about people overse...\n",
       "610   Artan’s actions fit the pattern of lone-wolf m...\n",
       "702   Since the beginning of the United States' econ...\n",
       "1270  The British singer-songwriter has been touring...\n",
       "1597  “There is no bigger mistake than the United St...\n",
       "1644  The visit is aimed at encouraging North Korea ...\n",
       "1653  \"I think it’s impossible to move on without Am...\n",
       "1661  The United States needs to step up to the occa...\n",
       "1855  The United States has extraordinary influence ...\n",
       "2248  Pyongyang condemned recent joint military exer...\n",
       "2270       The move further isolated the United States.\n",
       "2341  The move comes a few days after the Guatemalan...\n",
       "2417  Trump said Palestinians snubbed the United Sta...\n",
       "2422  North Korea has told the United States it is p...\n",
       "2717  In 2013, after months of drafting, hearings an...\n",
       "2855  The number of times I would’ve been expected t...\n",
       "2911  I had barely touched down in California when i...\n",
       "2994  It is evident that the United States governmen...\n",
       "3058  The flag is a symbolic representation of the n...\n",
       "3095  \"You folks are taking a look at the most prepa...\n",
       "3332  He said the United States \"needs a good 'shutd...\n",
       "3355  Three weeks from today, Americans finally will...\n",
       "3412  The president of the United States loves Musli...\n",
       "3462  For 150 years, since the Emancipation Proclama...\n",
       "3502  Every year, around this time, as the United St...\n",
       "3560  Nothing says United States of America like a b...\n",
       "3603  For the third year in a row, Washington, D.C.,...\n",
       "3705  After three years of declining sales, shipment...\n",
       "3873  Unemployment in the United States has steadily...\n",
       "4064  The strength of organized labor in the United ...\n",
       "4127  While a dollar bill looks and feels the same a...\n",
       "4149  Lagarde said fiscal problems in developed nati...\n",
       "4301  According to a recent study, the city with the...\n",
       "4317  These are the countries where workers get the ..."
      ]
     },
     "execution_count": 187,
     "metadata": {},
     "output_type": "execute_result"
    }
   ],
   "source": [
    "re_output"
   ]
  },
  {
   "cell_type": "code",
   "execution_count": 188,
   "metadata": {},
   "outputs": [],
   "source": [
    "file_1 =  open('united_states.json')\n",
    "json_op_1 = json.load(file_1)"
   ]
  },
  {
   "cell_type": "code",
   "execution_count": 189,
   "metadata": {},
   "outputs": [],
   "source": [
    "docs = []\n",
    "for doc in json_op_1['response']['docs']:\n",
    "    docs.append(doc['short_description'][0])"
   ]
  },
  {
   "cell_type": "code",
   "execution_count": 190,
   "metadata": {},
   "outputs": [],
   "source": [
    "json_df = pd.DataFrame(data = docs, columns = ['short_description'])"
   ]
  },
  {
   "cell_type": "code",
   "execution_count": 191,
   "metadata": {},
   "outputs": [],
   "source": [
    "tp = len(json_df[json_df['short_description'].str.contains('united states',regex=True, na=False, case = False)])\n",
    "fp = len(json_df) - tp"
   ]
  },
  {
   "cell_type": "code",
   "execution_count": 192,
   "metadata": {},
   "outputs": [],
   "source": [
    "fn = len(re_output) - tp"
   ]
  },
  {
   "cell_type": "code",
   "execution_count": 193,
   "metadata": {},
   "outputs": [
    {
     "name": "stdout",
     "output_type": "stream",
     "text": [
      "True Positive = 6\n",
      "False Negative = 29\n",
      "False Positive = 4\n"
     ]
    }
   ],
   "source": [
    "print(\"True Positive = {}\\nFalse Negative = {}\\nFalse Positive = {}\".format(tp, fn, fp))"
   ]
  },
  {
   "cell_type": "code",
   "execution_count": 194,
   "metadata": {},
   "outputs": [],
   "source": [
    "precision = tp/(tp+fp)\n",
    "recall = tp/(tp+fn)"
   ]
  },
  {
   "cell_type": "code",
   "execution_count": 195,
   "metadata": {},
   "outputs": [
    {
     "name": "stdout",
     "output_type": "stream",
     "text": [
      "Precision = 0.6\n",
      "Recall = 0.17142857142857143\n"
     ]
    }
   ],
   "source": [
    "print(\"Precision = {}\\nRecall = {}\".format(precision, recall))"
   ]
  },
  {
   "cell_type": "markdown",
   "metadata": {},
   "source": [
    "# Query 2\n",
    "### short_description: saudi arabia"
   ]
  },
  {
   "cell_type": "code",
   "execution_count": 196,
   "metadata": {},
   "outputs": [],
   "source": [
    "re_output_2 = filtered_df[filtered_df['short_description'].str.contains('(?:^|\\W)saudi arabia(?:$|\\W)',regex=True, na=False, case = False)]"
   ]
  },
  {
   "cell_type": "code",
   "execution_count": 197,
   "metadata": {},
   "outputs": [
    {
     "data": {
      "text/html": [
       "<div>\n",
       "<style scoped>\n",
       "    .dataframe tbody tr th:only-of-type {\n",
       "        vertical-align: middle;\n",
       "    }\n",
       "\n",
       "    .dataframe tbody tr th {\n",
       "        vertical-align: top;\n",
       "    }\n",
       "\n",
       "    .dataframe thead th {\n",
       "        text-align: right;\n",
       "    }\n",
       "</style>\n",
       "<table border=\"1\" class=\"dataframe\">\n",
       "  <thead>\n",
       "    <tr style=\"text-align: right;\">\n",
       "      <th></th>\n",
       "      <th>short_description</th>\n",
       "    </tr>\n",
       "  </thead>\n",
       "  <tbody>\n",
       "    <tr>\n",
       "      <th>1612</th>\n",
       "      <td>By James M. Dorsey Talks aimed at transferring...</td>\n",
       "    </tr>\n",
       "    <tr>\n",
       "      <th>1638</th>\n",
       "      <td>The stakes for 31-year-old Prince Mohammed and...</td>\n",
       "    </tr>\n",
       "    <tr>\n",
       "      <th>1724</th>\n",
       "      <td>Saturday night was a busy one for Saudi Arabia...</td>\n",
       "    </tr>\n",
       "    <tr>\n",
       "      <th>1755</th>\n",
       "      <td>Saudi Arabia’s lifting of a ban on women’s dri...</td>\n",
       "    </tr>\n",
       "    <tr>\n",
       "      <th>1788</th>\n",
       "      <td>In recent weeks, Saudi Arabia has become more ...</td>\n",
       "    </tr>\n",
       "    <tr>\n",
       "      <th>1885</th>\n",
       "      <td>By James M. Dorsey Recent moves by Saudi Arabi...</td>\n",
       "    </tr>\n",
       "    <tr>\n",
       "      <th>1932</th>\n",
       "      <td>A three-month old crisis in the Gulf that has ...</td>\n",
       "    </tr>\n",
       "    <tr>\n",
       "      <th>2060</th>\n",
       "      <td>In its words and its actions, Saudi Arabia nou...</td>\n",
       "    </tr>\n",
       "    <tr>\n",
       "      <th>2064</th>\n",
       "      <td>As Saudi Arabia reels from Crown Prince Mohamm...</td>\n",
       "    </tr>\n",
       "    <tr>\n",
       "      <th>2226</th>\n",
       "      <td>By James M. Dorsey Saudi Arabia, with the Isla...</td>\n",
       "    </tr>\n",
       "    <tr>\n",
       "      <th>2269</th>\n",
       "      <td>Saudi Arabia’s long-awaited lifting of a ban o...</td>\n",
       "    </tr>\n",
       "  </tbody>\n",
       "</table>\n",
       "</div>"
      ],
      "text/plain": [
       "                                      short_description\n",
       "1612  By James M. Dorsey Talks aimed at transferring...\n",
       "1638  The stakes for 31-year-old Prince Mohammed and...\n",
       "1724  Saturday night was a busy one for Saudi Arabia...\n",
       "1755  Saudi Arabia’s lifting of a ban on women’s dri...\n",
       "1788  In recent weeks, Saudi Arabia has become more ...\n",
       "1885  By James M. Dorsey Recent moves by Saudi Arabi...\n",
       "1932  A three-month old crisis in the Gulf that has ...\n",
       "2060  In its words and its actions, Saudi Arabia nou...\n",
       "2064  As Saudi Arabia reels from Crown Prince Mohamm...\n",
       "2226  By James M. Dorsey Saudi Arabia, with the Isla...\n",
       "2269  Saudi Arabia’s long-awaited lifting of a ban o..."
      ]
     },
     "execution_count": 197,
     "metadata": {},
     "output_type": "execute_result"
    }
   ],
   "source": [
    "re_output_2"
   ]
  },
  {
   "cell_type": "code",
   "execution_count": 198,
   "metadata": {},
   "outputs": [],
   "source": [
    "file_1 =  open('saudi_arabia.json')\n",
    "json_op_1 = json.load(file_1)\n",
    "docs = []\n",
    "for doc in json_op_1['response']['docs']:\n",
    "    docs.append(doc['short_description'][0])\n",
    "json_df = pd.DataFrame(data = docs, columns = ['short_description'])\n",
    "tp = len(json_df[json_df['short_description'].str.contains('(?:^|\\W)saudi arabia(?:$|\\W)',regex=True, na=False, case = False)])\n",
    "fp = len(json_df) - tp\n",
    "fn = len(re_output_2) - tp\n",
    "precision = tp/(tp+fp)\n",
    "recall = tp/(tp+fn)"
   ]
  },
  {
   "cell_type": "code",
   "execution_count": 199,
   "metadata": {},
   "outputs": [
    {
     "name": "stdout",
     "output_type": "stream",
     "text": [
      "True Positive = 3\n",
      "False Negative = 8\n",
      "False Positive = 7\n"
     ]
    }
   ],
   "source": [
    "print(\"True Positive = {}\\nFalse Negative = {}\\nFalse Positive = {}\".format(tp, fn, fp))"
   ]
  },
  {
   "cell_type": "code",
   "execution_count": 185,
   "metadata": {},
   "outputs": [
    {
     "name": "stdout",
     "output_type": "stream",
     "text": [
      "Precision = 0.3\n",
      "Recall = 0.2727272727272727\n"
     ]
    }
   ],
   "source": [
    "print(\"Precision = {}\\nRecall = {}\".format(precision, recall))"
   ]
  },
  {
   "cell_type": "markdown",
   "metadata": {},
   "source": [
    "# Query 3\n",
    "### short_description : south africa"
   ]
  },
  {
   "cell_type": "code",
   "execution_count": 213,
   "metadata": {},
   "outputs": [],
   "source": [
    "re_output_3 = filtered_df[filtered_df['short_description'].str.contains('(?:^|\\W)south africa(?:$|\\W)',regex=True, na=False, case = False)]"
   ]
  },
  {
   "cell_type": "code",
   "execution_count": 214,
   "metadata": {},
   "outputs": [
    {
     "data": {
      "text/html": [
       "<div>\n",
       "<style scoped>\n",
       "    .dataframe tbody tr th:only-of-type {\n",
       "        vertical-align: middle;\n",
       "    }\n",
       "\n",
       "    .dataframe tbody tr th {\n",
       "        vertical-align: top;\n",
       "    }\n",
       "\n",
       "    .dataframe thead th {\n",
       "        text-align: right;\n",
       "    }\n",
       "</style>\n",
       "<table border=\"1\" class=\"dataframe\">\n",
       "  <thead>\n",
       "    <tr style=\"text-align: right;\">\n",
       "      <th></th>\n",
       "      <th>short_description</th>\n",
       "    </tr>\n",
       "  </thead>\n",
       "  <tbody>\n",
       "    <tr>\n",
       "      <th>1766</th>\n",
       "      <td>A South Africa court resentenced Pistorius to ...</td>\n",
       "    </tr>\n",
       "    <tr>\n",
       "      <th>2593</th>\n",
       "      <td>Winnie Madikizela-Mandela’s legacy may resonat...</td>\n",
       "    </tr>\n",
       "  </tbody>\n",
       "</table>\n",
       "</div>"
      ],
      "text/plain": [
       "                                      short_description\n",
       "1766  A South Africa court resentenced Pistorius to ...\n",
       "2593  Winnie Madikizela-Mandela’s legacy may resonat..."
      ]
     },
     "execution_count": 214,
     "metadata": {},
     "output_type": "execute_result"
    }
   ],
   "source": [
    "re_output_3"
   ]
  },
  {
   "cell_type": "code",
   "execution_count": 215,
   "metadata": {},
   "outputs": [],
   "source": [
    "file_1 =  open('south_africa.json')\n",
    "json_op_1 = json.load(file_1)\n",
    "docs = []\n",
    "for doc in json_op_1['response']['docs']:\n",
    "    docs.append(doc['short_description'][0])\n",
    "json_df = pd.DataFrame(data = docs, columns = ['short_description'])\n",
    "tp = len(json_df[json_df['short_description'].str.contains('(?:^|\\W)south africa(?:$|\\W)',regex=True, na=False, case = False)])\n",
    "fp = len(json_df) - tp\n",
    "fn = len(re_output_3) - tp\n",
    "precision = tp/(tp+fp)\n",
    "recall = tp/(tp+fn)"
   ]
  },
  {
   "cell_type": "code",
   "execution_count": 216,
   "metadata": {},
   "outputs": [
    {
     "name": "stdout",
     "output_type": "stream",
     "text": [
      "True Positive = 1\n",
      "False Negative = 1\n",
      "False Positive = 9\n"
     ]
    }
   ],
   "source": [
    "print(\"True Positive = {}\\nFalse Negative = {}\\nFalse Positive = {}\".format(tp, fn, fp))"
   ]
  },
  {
   "cell_type": "code",
   "execution_count": 217,
   "metadata": {},
   "outputs": [
    {
     "name": "stdout",
     "output_type": "stream",
     "text": [
      "Precision = 0.1\n",
      "Recall = 0.5\n"
     ]
    }
   ],
   "source": [
    "print(\"Precision = {}\\nRecall = {}\".format(precision, recall))"
   ]
  },
  {
   "cell_type": "markdown",
   "metadata": {},
   "source": [
    "# Query 4\n",
    "### short_description:india"
   ]
  },
  {
   "cell_type": "code",
   "execution_count": 205,
   "metadata": {},
   "outputs": [],
   "source": [
    "re_output_4 = filtered_df[filtered_df['short_description'].str.contains('(?:^|\\W)india(?:$|\\W)',regex=True, na=False, case = False)]"
   ]
  },
  {
   "cell_type": "code",
   "execution_count": 206,
   "metadata": {},
   "outputs": [
    {
     "data": {
      "text/html": [
       "<div>\n",
       "<style scoped>\n",
       "    .dataframe tbody tr th:only-of-type {\n",
       "        vertical-align: middle;\n",
       "    }\n",
       "\n",
       "    .dataframe tbody tr th {\n",
       "        vertical-align: top;\n",
       "    }\n",
       "\n",
       "    .dataframe thead th {\n",
       "        text-align: right;\n",
       "    }\n",
       "</style>\n",
       "<table border=\"1\" class=\"dataframe\">\n",
       "  <thead>\n",
       "    <tr style=\"text-align: right;\">\n",
       "      <th></th>\n",
       "      <th>short_description</th>\n",
       "    </tr>\n",
       "  </thead>\n",
       "  <tbody>\n",
       "    <tr>\n",
       "      <th>1602</th>\n",
       "      <td>India and China are embroiled in a tense impas...</td>\n",
       "    </tr>\n",
       "    <tr>\n",
       "      <th>1617</th>\n",
       "      <td>India deployed thousands of riot police and sh...</td>\n",
       "    </tr>\n",
       "    <tr>\n",
       "      <th>2071</th>\n",
       "      <td>Michelle Mielly, Grenoble École de Management ...</td>\n",
       "    </tr>\n",
       "    <tr>\n",
       "      <th>2167</th>\n",
       "      <td>By Angel Sharma China and India are gearing up...</td>\n",
       "    </tr>\n",
       "    <tr>\n",
       "      <th>2485</th>\n",
       "      <td>Afroz Alam, Maulana Azad National Urdu Univers...</td>\n",
       "    </tr>\n",
       "    <tr>\n",
       "      <th>3750</th>\n",
       "      <td>Cash Surplus Bloomberg View: Today’s highlight...</td>\n",
       "    </tr>\n",
       "    <tr>\n",
       "      <th>4203</th>\n",
       "      <td>O'Neill, who coined the term 'BRIC' in 2001 to...</td>\n",
       "    </tr>\n",
       "    <tr>\n",
       "      <th>4214</th>\n",
       "      <td>Louis Gagnon journeyed to India to share the p...</td>\n",
       "    </tr>\n",
       "    <tr>\n",
       "      <th>4288</th>\n",
       "      <td>India's solar subsidies have been ruled illega...</td>\n",
       "    </tr>\n",
       "  </tbody>\n",
       "</table>\n",
       "</div>"
      ],
      "text/plain": [
       "                                      short_description\n",
       "1602  India and China are embroiled in a tense impas...\n",
       "1617  India deployed thousands of riot police and sh...\n",
       "2071  Michelle Mielly, Grenoble École de Management ...\n",
       "2167  By Angel Sharma China and India are gearing up...\n",
       "2485  Afroz Alam, Maulana Azad National Urdu Univers...\n",
       "3750  Cash Surplus Bloomberg View: Today’s highlight...\n",
       "4203  O'Neill, who coined the term 'BRIC' in 2001 to...\n",
       "4214  Louis Gagnon journeyed to India to share the p...\n",
       "4288  India's solar subsidies have been ruled illega..."
      ]
     },
     "execution_count": 206,
     "metadata": {},
     "output_type": "execute_result"
    }
   ],
   "source": [
    "re_output_4"
   ]
  },
  {
   "cell_type": "code",
   "execution_count": 218,
   "metadata": {},
   "outputs": [],
   "source": [
    "file_1 =  open('india.json')\n",
    "json_op_1 = json.load(file_1)\n",
    "docs = []\n",
    "for doc in json_op_1['response']['docs']:\n",
    "    docs.append(doc['short_description'][0])\n",
    "json_df = pd.DataFrame(data = docs, columns = ['short_description'])\n",
    "tp = len(json_df[json_df['short_description'].str.contains('(?:^|\\W)india(?:$|\\W)',regex=True, na=False, case = False)])\n",
    "fp = len(json_df) - tp\n",
    "fn = len(re_output_4) - tp\n",
    "precision = tp/(tp+fp)\n",
    "recall = tp/(tp+fn)"
   ]
  },
  {
   "cell_type": "code",
   "execution_count": 219,
   "metadata": {},
   "outputs": [
    {
     "name": "stdout",
     "output_type": "stream",
     "text": [
      "True Positive = 7\n",
      "False Negative = 2\n",
      "False Positive = 0\n"
     ]
    }
   ],
   "source": [
    "print(\"True Positive = {}\\nFalse Negative = {}\\nFalse Positive = {}\".format(tp, fn, fp))"
   ]
  },
  {
   "cell_type": "code",
   "execution_count": 220,
   "metadata": {},
   "outputs": [
    {
     "name": "stdout",
     "output_type": "stream",
     "text": [
      "Precision = 1.0\n",
      "Recall = 0.7777777777777778\n"
     ]
    }
   ],
   "source": [
    "print(\"Precision = {}\\nRecall = {}\".format(precision, recall))"
   ]
  },
  {
   "cell_type": "markdown",
   "metadata": {},
   "source": [
    "# Query 5\n",
    "### short_description:North Korea"
   ]
  },
  {
   "cell_type": "code",
   "execution_count": 221,
   "metadata": {},
   "outputs": [],
   "source": [
    "re_output_5 = filtered_df[filtered_df['short_description'].str.contains('(?:^|\\W)north korea(?:$|\\W)',regex=True, na=False, case = False)]"
   ]
  },
  {
   "cell_type": "code",
   "execution_count": 222,
   "metadata": {},
   "outputs": [
    {
     "data": {
      "text/html": [
       "<div>\n",
       "<style scoped>\n",
       "    .dataframe tbody tr th:only-of-type {\n",
       "        vertical-align: middle;\n",
       "    }\n",
       "\n",
       "    .dataframe tbody tr th {\n",
       "        vertical-align: top;\n",
       "    }\n",
       "\n",
       "    .dataframe thead th {\n",
       "        text-align: right;\n",
       "    }\n",
       "</style>\n",
       "<table border=\"1\" class=\"dataframe\">\n",
       "  <thead>\n",
       "    <tr style=\"text-align: right;\">\n",
       "      <th></th>\n",
       "      <th>short_description</th>\n",
       "    </tr>\n",
       "  </thead>\n",
       "  <tbody>\n",
       "    <tr>\n",
       "      <th>1633</th>\n",
       "      <td>The world is in shock and awe over the dramati...</td>\n",
       "    </tr>\n",
       "    <tr>\n",
       "      <th>1644</th>\n",
       "      <td>The visit is aimed at encouraging North Korea ...</td>\n",
       "    </tr>\n",
       "    <tr>\n",
       "      <th>1753</th>\n",
       "      <td>North Korea has conducted two nuclear tests an...</td>\n",
       "    </tr>\n",
       "    <tr>\n",
       "      <th>1804</th>\n",
       "      <td>“I am not worried about North Korea. At all,\" ...</td>\n",
       "    </tr>\n",
       "    <tr>\n",
       "      <th>1826</th>\n",
       "      <td>Byung-Seong Min, Griffith University North Kor...</td>\n",
       "    </tr>\n",
       "    <tr>\n",
       "      <th>1888</th>\n",
       "      <td>North Korea has at least 16 different missiles...</td>\n",
       "    </tr>\n",
       "    <tr>\n",
       "      <th>1940</th>\n",
       "      <td>It is the pinnacle of hubris for the world to ...</td>\n",
       "    </tr>\n",
       "    <tr>\n",
       "      <th>1941</th>\n",
       "      <td>The war of words between Trump and North Korea...</td>\n",
       "    </tr>\n",
       "    <tr>\n",
       "      <th>1962</th>\n",
       "      <td>Trump’s announcement came after repeated threa...</td>\n",
       "    </tr>\n",
       "    <tr>\n",
       "      <th>2033</th>\n",
       "      <td>Secretary of State Mike Pompeo departed North ...</td>\n",
       "    </tr>\n",
       "    <tr>\n",
       "      <th>2037</th>\n",
       "      <td>As US-North Korea relations ebb to their lowes...</td>\n",
       "    </tr>\n",
       "    <tr>\n",
       "      <th>2078</th>\n",
       "      <td>The narrative about North Korea, a narrative I...</td>\n",
       "    </tr>\n",
       "    <tr>\n",
       "      <th>2146</th>\n",
       "      <td>By James M. Dorsey As US President Donald J. T...</td>\n",
       "    </tr>\n",
       "    <tr>\n",
       "      <th>2201</th>\n",
       "      <td>It was the first K-pop show in North Korea in ...</td>\n",
       "    </tr>\n",
       "    <tr>\n",
       "      <th>2315</th>\n",
       "      <td>Donald Trump’s 12-day Asia trip threatens to b...</td>\n",
       "    </tr>\n",
       "    <tr>\n",
       "      <th>2348</th>\n",
       "      <td>Tensions have been rising over North Korea’s n...</td>\n",
       "    </tr>\n",
       "    <tr>\n",
       "      <th>2422</th>\n",
       "      <td>North Korea has told the United States it is p...</td>\n",
       "    </tr>\n",
       "    <tr>\n",
       "      <th>2567</th>\n",
       "      <td>\"We look forward to candidly discussing intere...</td>\n",
       "    </tr>\n",
       "    <tr>\n",
       "      <th>3446</th>\n",
       "      <td>And the latest on Trump's comments on North Ko...</td>\n",
       "    </tr>\n",
       "  </tbody>\n",
       "</table>\n",
       "</div>"
      ],
      "text/plain": [
       "                                      short_description\n",
       "1633  The world is in shock and awe over the dramati...\n",
       "1644  The visit is aimed at encouraging North Korea ...\n",
       "1753  North Korea has conducted two nuclear tests an...\n",
       "1804  “I am not worried about North Korea. At all,\" ...\n",
       "1826  Byung-Seong Min, Griffith University North Kor...\n",
       "1888  North Korea has at least 16 different missiles...\n",
       "1940  It is the pinnacle of hubris for the world to ...\n",
       "1941  The war of words between Trump and North Korea...\n",
       "1962  Trump’s announcement came after repeated threa...\n",
       "2033  Secretary of State Mike Pompeo departed North ...\n",
       "2037  As US-North Korea relations ebb to their lowes...\n",
       "2078  The narrative about North Korea, a narrative I...\n",
       "2146  By James M. Dorsey As US President Donald J. T...\n",
       "2201  It was the first K-pop show in North Korea in ...\n",
       "2315  Donald Trump’s 12-day Asia trip threatens to b...\n",
       "2348  Tensions have been rising over North Korea’s n...\n",
       "2422  North Korea has told the United States it is p...\n",
       "2567  \"We look forward to candidly discussing intere...\n",
       "3446  And the latest on Trump's comments on North Ko..."
      ]
     },
     "execution_count": 222,
     "metadata": {},
     "output_type": "execute_result"
    }
   ],
   "source": [
    "re_output_5"
   ]
  },
  {
   "cell_type": "code",
   "execution_count": 223,
   "metadata": {},
   "outputs": [],
   "source": [
    "file_1 =  open('north_korea.json')\n",
    "json_op_1 = json.load(file_1)\n",
    "docs = []\n",
    "for doc in json_op_1['response']['docs']:\n",
    "    docs.append(doc['short_description'][0])\n",
    "json_df = pd.DataFrame(data = docs, columns = ['short_description'])\n",
    "tp = len(json_df[json_df['short_description'].str.contains('(?:^|\\W)north korea(?:$|\\W)',regex=True, na=False, case = False)])\n",
    "fp = len(json_df) - tp\n",
    "fn = len(re_output_5) - tp\n",
    "precision = tp/(tp+fp)\n",
    "recall = tp/(tp+fn)"
   ]
  },
  {
   "cell_type": "code",
   "execution_count": 224,
   "metadata": {},
   "outputs": [
    {
     "name": "stdout",
     "output_type": "stream",
     "text": [
      "True Positive = 6\n",
      "False Negative = 13\n",
      "False Positive = 4\n"
     ]
    }
   ],
   "source": [
    "print(\"True Positive = {}\\nFalse Negative = {}\\nFalse Positive = {}\".format(tp, fn, fp))"
   ]
  },
  {
   "cell_type": "code",
   "execution_count": 225,
   "metadata": {},
   "outputs": [
    {
     "name": "stdout",
     "output_type": "stream",
     "text": [
      "Precision = 0.6\n",
      "Recall = 0.3157894736842105\n"
     ]
    }
   ],
   "source": [
    "print(\"Precision = {}\\nRecall = {}\".format(precision, recall))"
   ]
  },
  {
   "cell_type": "code",
   "execution_count": null,
   "metadata": {},
   "outputs": [],
   "source": []
  }
 ],
 "metadata": {
  "kernelspec": {
   "display_name": "Python [conda env:tf]",
   "language": "python",
   "name": "conda-env-tf-py"
  },
  "language_info": {
   "codemirror_mode": {
    "name": "ipython",
    "version": 3
   },
   "file_extension": ".py",
   "mimetype": "text/x-python",
   "name": "python",
   "nbconvert_exporter": "python",
   "pygments_lexer": "ipython3",
   "version": "3.7.7"
  }
 },
 "nbformat": 4,
 "nbformat_minor": 4
}
