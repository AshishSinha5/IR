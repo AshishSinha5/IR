{
 "cells": [
  {
   "cell_type": "code",
   "execution_count": 1,
   "metadata": {},
   "outputs": [],
   "source": [
    "import pandas as pd\n",
    "import numpy as np\n",
    "import re\n",
    "from collections import Counter"
   ]
  },
  {
   "cell_type": "code",
   "execution_count": 2,
   "metadata": {},
   "outputs": [],
   "source": [
    "s = \"The research groups in Mathematics and Computer Science at CMI are among the best known in the country. Recently, a research group has also been set up in Physics. The Institute has nurtured an impressive collection of PhD students. The main areas of research in Mathematics pursued at the Institute are algebra, analysis, differential equations, geometry and topology. In Computer Science, the main areas of research are formal methods in the specification and verification of software systems, design and analysis of algorithms, computational complexity theory and computer security. In Physics, research is being carried out mainly in quantum field theory, mathematical physics and string theory. Members of the faculty have strong academic ties with reputed institutions in India and abroad. The institute has an active Visitors Programme and is open to offering flexible visiting positions at all levels. The Institute has exchange programmes with the Ecole Normale Superieure, Paris and the Ecole Normale Superieure de Cachan. Each year, the two top-ranking senior BSc students from CMI spend the summer at ENS, Paris working on research problems with faculty there. In return, four PhD students from ENS visit CMI each year to participate in research and teaching. CMI is also involved in a number of collaborative research projects, both with academic and industrial partners. From 2005-2009, the Institute was involved in a four year project on timed and distributed computing systems under the Indo-French Networking programme, jointly funded by the French Ministry of Science, CNRS and the Indian Department of Science and Technology. The project involved scientists from CMI, IMSc and IISc, Bangalore in India and the University of Paris 7, ENS de Cachan and the University of Bordeaux 1 in France. A three year Indo-French research collaboration involving CMI and ENS de Cachan has been initiated in 2008 under the ARCUS programme, funded by Region Ile de France. CMI has had sponsored research projects with Honeywell Technology Solutions Laboratory, Bangalore, Siemens' Corporate Technology research centre, Bangalore and Tata Research Development and Design Centre, Pune. The Institute actively supports conferences and workshops and other activities that contribute to the growth of Mathematics and Computer Science in the country.\""
   ]
  },
  {
   "cell_type": "code",
   "execution_count": 3,
   "metadata": {},
   "outputs": [
    {
     "data": {
      "text/plain": [
       "\"The research groups in Mathematics and Computer Science at CMI are among the best known in the country. Recently, a research group has also been set up in Physics. The Institute has nurtured an impressive collection of PhD students. The main areas of research in Mathematics pursued at the Institute are algebra, analysis, differential equations, geometry and topology. In Computer Science, the main areas of research are formal methods in the specification and verification of software systems, design and analysis of algorithms, computational complexity theory and computer security. In Physics, research is being carried out mainly in quantum field theory, mathematical physics and string theory. Members of the faculty have strong academic ties with reputed institutions in India and abroad. The institute has an active Visitors Programme and is open to offering flexible visiting positions at all levels. The Institute has exchange programmes with the Ecole Normale Superieure, Paris and the Ecole Normale Superieure de Cachan. Each year, the two top-ranking senior BSc students from CMI spend the summer at ENS, Paris working on research problems with faculty there. In return, four PhD students from ENS visit CMI each year to participate in research and teaching. CMI is also involved in a number of collaborative research projects, both with academic and industrial partners. From 2005-2009, the Institute was involved in a four year project on timed and distributed computing systems under the Indo-French Networking programme, jointly funded by the French Ministry of Science, CNRS and the Indian Department of Science and Technology. The project involved scientists from CMI, IMSc and IISc, Bangalore in India and the University of Paris 7, ENS de Cachan and the University of Bordeaux 1 in France. A three year Indo-French research collaboration involving CMI and ENS de Cachan has been initiated in 2008 under the ARCUS programme, funded by Region Ile de France. CMI has had sponsored research projects with Honeywell Technology Solutions Laboratory, Bangalore, Siemens' Corporate Technology research centre, Bangalore and Tata Research Development and Design Centre, Pune. The Institute actively supports conferences and workshops and other activities that contribute to the growth of Mathematics and Computer Science in the country.\""
      ]
     },
     "execution_count": 3,
     "metadata": {},
     "output_type": "execute_result"
    }
   ],
   "source": [
    "s"
   ]
  },
  {
   "cell_type": "code",
   "execution_count": 4,
   "metadata": {},
   "outputs": [],
   "source": [
    "s = re.sub('[,.]','', s)"
   ]
  },
  {
   "cell_type": "code",
   "execution_count": 5,
   "metadata": {},
   "outputs": [
    {
     "data": {
      "text/plain": [
       "\"The research groups in Mathematics and Computer Science at CMI are among the best known in the country Recently a research group has also been set up in Physics The Institute has nurtured an impressive collection of PhD students The main areas of research in Mathematics pursued at the Institute are algebra analysis differential equations geometry and topology In Computer Science the main areas of research are formal methods in the specification and verification of software systems design and analysis of algorithms computational complexity theory and computer security In Physics research is being carried out mainly in quantum field theory mathematical physics and string theory Members of the faculty have strong academic ties with reputed institutions in India and abroad The institute has an active Visitors Programme and is open to offering flexible visiting positions at all levels The Institute has exchange programmes with the Ecole Normale Superieure Paris and the Ecole Normale Superieure de Cachan Each year the two top-ranking senior BSc students from CMI spend the summer at ENS Paris working on research problems with faculty there In return four PhD students from ENS visit CMI each year to participate in research and teaching CMI is also involved in a number of collaborative research projects both with academic and industrial partners From 2005-2009 the Institute was involved in a four year project on timed and distributed computing systems under the Indo-French Networking programme jointly funded by the French Ministry of Science CNRS and the Indian Department of Science and Technology The project involved scientists from CMI IMSc and IISc Bangalore in India and the University of Paris 7 ENS de Cachan and the University of Bordeaux 1 in France A three year Indo-French research collaboration involving CMI and ENS de Cachan has been initiated in 2008 under the ARCUS programme funded by Region Ile de France CMI has had sponsored research projects with Honeywell Technology Solutions Laboratory Bangalore Siemens' Corporate Technology research centre Bangalore and Tata Research Development and Design Centre Pune The Institute actively supports conferences and workshops and other activities that contribute to the growth of Mathematics and Computer Science in the country\""
      ]
     },
     "execution_count": 5,
     "metadata": {},
     "output_type": "execute_result"
    }
   ],
   "source": [
    "s"
   ]
  },
  {
   "cell_type": "code",
   "execution_count": 6,
   "metadata": {},
   "outputs": [],
   "source": [
    "s = re.sub('[-]',' ', s)"
   ]
  },
  {
   "cell_type": "code",
   "execution_count": 7,
   "metadata": {},
   "outputs": [
    {
     "data": {
      "text/plain": [
       "\"The research groups in Mathematics and Computer Science at CMI are among the best known in the country Recently a research group has also been set up in Physics The Institute has nurtured an impressive collection of PhD students The main areas of research in Mathematics pursued at the Institute are algebra analysis differential equations geometry and topology In Computer Science the main areas of research are formal methods in the specification and verification of software systems design and analysis of algorithms computational complexity theory and computer security In Physics research is being carried out mainly in quantum field theory mathematical physics and string theory Members of the faculty have strong academic ties with reputed institutions in India and abroad The institute has an active Visitors Programme and is open to offering flexible visiting positions at all levels The Institute has exchange programmes with the Ecole Normale Superieure Paris and the Ecole Normale Superieure de Cachan Each year the two top ranking senior BSc students from CMI spend the summer at ENS Paris working on research problems with faculty there In return four PhD students from ENS visit CMI each year to participate in research and teaching CMI is also involved in a number of collaborative research projects both with academic and industrial partners From 2005 2009 the Institute was involved in a four year project on timed and distributed computing systems under the Indo French Networking programme jointly funded by the French Ministry of Science CNRS and the Indian Department of Science and Technology The project involved scientists from CMI IMSc and IISc Bangalore in India and the University of Paris 7 ENS de Cachan and the University of Bordeaux 1 in France A three year Indo French research collaboration involving CMI and ENS de Cachan has been initiated in 2008 under the ARCUS programme funded by Region Ile de France CMI has had sponsored research projects with Honeywell Technology Solutions Laboratory Bangalore Siemens' Corporate Technology research centre Bangalore and Tata Research Development and Design Centre Pune The Institute actively supports conferences and workshops and other activities that contribute to the growth of Mathematics and Computer Science in the country\""
      ]
     },
     "execution_count": 7,
     "metadata": {},
     "output_type": "execute_result"
    }
   ],
   "source": [
    "s"
   ]
  },
  {
   "cell_type": "code",
   "execution_count": 8,
   "metadata": {},
   "outputs": [],
   "source": [
    "s = s.lower()"
   ]
  },
  {
   "cell_type": "code",
   "execution_count": 9,
   "metadata": {},
   "outputs": [
    {
     "data": {
      "text/plain": [
       "\"the research groups in mathematics and computer science at cmi are among the best known in the country recently a research group has also been set up in physics the institute has nurtured an impressive collection of phd students the main areas of research in mathematics pursued at the institute are algebra analysis differential equations geometry and topology in computer science the main areas of research are formal methods in the specification and verification of software systems design and analysis of algorithms computational complexity theory and computer security in physics research is being carried out mainly in quantum field theory mathematical physics and string theory members of the faculty have strong academic ties with reputed institutions in india and abroad the institute has an active visitors programme and is open to offering flexible visiting positions at all levels the institute has exchange programmes with the ecole normale superieure paris and the ecole normale superieure de cachan each year the two top ranking senior bsc students from cmi spend the summer at ens paris working on research problems with faculty there in return four phd students from ens visit cmi each year to participate in research and teaching cmi is also involved in a number of collaborative research projects both with academic and industrial partners from 2005 2009 the institute was involved in a four year project on timed and distributed computing systems under the indo french networking programme jointly funded by the french ministry of science cnrs and the indian department of science and technology the project involved scientists from cmi imsc and iisc bangalore in india and the university of paris 7 ens de cachan and the university of bordeaux 1 in france a three year indo french research collaboration involving cmi and ens de cachan has been initiated in 2008 under the arcus programme funded by region ile de france cmi has had sponsored research projects with honeywell technology solutions laboratory bangalore siemens' corporate technology research centre bangalore and tata research development and design centre pune the institute actively supports conferences and workshops and other activities that contribute to the growth of mathematics and computer science in the country\""
      ]
     },
     "execution_count": 9,
     "metadata": {},
     "output_type": "execute_result"
    }
   ],
   "source": [
    "s"
   ]
  },
  {
   "cell_type": "code",
   "execution_count": 10,
   "metadata": {},
   "outputs": [],
   "source": [
    "d = dict(Counter(s.split()))\n",
    "sorted_dict = {k: v for k, v in sorted(d.items(), key=lambda item: item[0])}"
   ]
  },
  {
   "cell_type": "code",
   "execution_count": 11,
   "metadata": {},
   "outputs": [
    {
     "data": {
      "text/plain": [
       "{'1': 1,\n",
       " '2005': 1,\n",
       " '2008': 1,\n",
       " '2009': 1,\n",
       " '7': 1,\n",
       " 'a': 4,\n",
       " 'abroad': 1,\n",
       " 'academic': 2,\n",
       " 'active': 1,\n",
       " 'actively': 1,\n",
       " 'activities': 1,\n",
       " 'algebra': 1,\n",
       " 'algorithms': 1,\n",
       " 'all': 1,\n",
       " 'also': 2,\n",
       " 'among': 1,\n",
       " 'an': 2,\n",
       " 'analysis': 2,\n",
       " 'and': 23,\n",
       " 'arcus': 1,\n",
       " 'are': 3,\n",
       " 'areas': 2,\n",
       " 'at': 4,\n",
       " 'bangalore': 3,\n",
       " 'been': 2,\n",
       " 'being': 1,\n",
       " 'best': 1,\n",
       " 'bordeaux': 1,\n",
       " 'both': 1,\n",
       " 'bsc': 1,\n",
       " 'by': 2,\n",
       " 'cachan': 3,\n",
       " 'carried': 1,\n",
       " 'centre': 2,\n",
       " 'cmi': 7,\n",
       " 'cnrs': 1,\n",
       " 'collaboration': 1,\n",
       " 'collaborative': 1,\n",
       " 'collection': 1,\n",
       " 'complexity': 1,\n",
       " 'computational': 1,\n",
       " 'computer': 4,\n",
       " 'computing': 1,\n",
       " 'conferences': 1,\n",
       " 'contribute': 1,\n",
       " 'corporate': 1,\n",
       " 'country': 2,\n",
       " 'de': 4,\n",
       " 'department': 1,\n",
       " 'design': 2,\n",
       " 'development': 1,\n",
       " 'differential': 1,\n",
       " 'distributed': 1,\n",
       " 'each': 2,\n",
       " 'ecole': 2,\n",
       " 'ens': 4,\n",
       " 'equations': 1,\n",
       " 'exchange': 1,\n",
       " 'faculty': 2,\n",
       " 'field': 1,\n",
       " 'flexible': 1,\n",
       " 'formal': 1,\n",
       " 'four': 2,\n",
       " 'france': 2,\n",
       " 'french': 3,\n",
       " 'from': 4,\n",
       " 'funded': 2,\n",
       " 'geometry': 1,\n",
       " 'group': 1,\n",
       " 'groups': 1,\n",
       " 'growth': 1,\n",
       " 'had': 1,\n",
       " 'has': 6,\n",
       " 'have': 1,\n",
       " 'honeywell': 1,\n",
       " 'iisc': 1,\n",
       " 'ile': 1,\n",
       " 'impressive': 1,\n",
       " 'imsc': 1,\n",
       " 'in': 17,\n",
       " 'india': 2,\n",
       " 'indian': 1,\n",
       " 'indo': 2,\n",
       " 'industrial': 1,\n",
       " 'initiated': 1,\n",
       " 'institute': 6,\n",
       " 'institutions': 1,\n",
       " 'involved': 3,\n",
       " 'involving': 1,\n",
       " 'is': 3,\n",
       " 'jointly': 1,\n",
       " 'known': 1,\n",
       " 'laboratory': 1,\n",
       " 'levels': 1,\n",
       " 'main': 2,\n",
       " 'mainly': 1,\n",
       " 'mathematical': 1,\n",
       " 'mathematics': 3,\n",
       " 'members': 1,\n",
       " 'methods': 1,\n",
       " 'ministry': 1,\n",
       " 'networking': 1,\n",
       " 'normale': 2,\n",
       " 'number': 1,\n",
       " 'nurtured': 1,\n",
       " 'of': 12,\n",
       " 'offering': 1,\n",
       " 'on': 2,\n",
       " 'open': 1,\n",
       " 'other': 1,\n",
       " 'out': 1,\n",
       " 'paris': 3,\n",
       " 'participate': 1,\n",
       " 'partners': 1,\n",
       " 'phd': 2,\n",
       " 'physics': 3,\n",
       " 'positions': 1,\n",
       " 'problems': 1,\n",
       " 'programme': 3,\n",
       " 'programmes': 1,\n",
       " 'project': 2,\n",
       " 'projects': 2,\n",
       " 'pune': 1,\n",
       " 'pursued': 1,\n",
       " 'quantum': 1,\n",
       " 'ranking': 1,\n",
       " 'recently': 1,\n",
       " 'region': 1,\n",
       " 'reputed': 1,\n",
       " 'research': 12,\n",
       " 'return': 1,\n",
       " 'science': 5,\n",
       " 'scientists': 1,\n",
       " 'security': 1,\n",
       " 'senior': 1,\n",
       " 'set': 1,\n",
       " \"siemens'\": 1,\n",
       " 'software': 1,\n",
       " 'solutions': 1,\n",
       " 'specification': 1,\n",
       " 'spend': 1,\n",
       " 'sponsored': 1,\n",
       " 'string': 1,\n",
       " 'strong': 1,\n",
       " 'students': 3,\n",
       " 'summer': 1,\n",
       " 'superieure': 2,\n",
       " 'supports': 1,\n",
       " 'systems': 2,\n",
       " 'tata': 1,\n",
       " 'teaching': 1,\n",
       " 'technology': 3,\n",
       " 'that': 1,\n",
       " 'the': 26,\n",
       " 'theory': 3,\n",
       " 'there': 1,\n",
       " 'three': 1,\n",
       " 'ties': 1,\n",
       " 'timed': 1,\n",
       " 'to': 3,\n",
       " 'top': 1,\n",
       " 'topology': 1,\n",
       " 'two': 1,\n",
       " 'under': 2,\n",
       " 'university': 2,\n",
       " 'up': 1,\n",
       " 'verification': 1,\n",
       " 'visit': 1,\n",
       " 'visiting': 1,\n",
       " 'visitors': 1,\n",
       " 'was': 1,\n",
       " 'with': 5,\n",
       " 'working': 1,\n",
       " 'workshops': 1,\n",
       " 'year': 4}"
      ]
     },
     "execution_count": 11,
     "metadata": {},
     "output_type": "execute_result"
    }
   ],
   "source": [
    "sorted_dict"
   ]
  },
  {
   "cell_type": "markdown",
   "metadata": {},
   "source": [
    "## Calculating B1"
   ]
  },
  {
   "cell_type": "code",
   "execution_count": 12,
   "metadata": {},
   "outputs": [],
   "source": [
    "b1 = len(sorted_dict)*20"
   ]
  },
  {
   "cell_type": "code",
   "execution_count": 13,
   "metadata": {},
   "outputs": [
    {
     "data": {
      "text/plain": [
       "3500"
      ]
     },
     "execution_count": 13,
     "metadata": {},
     "output_type": "execute_result"
    }
   ],
   "source": [
    "b1"
   ]
  },
  {
   "cell_type": "markdown",
   "metadata": {},
   "source": [
    "## Calculating B2"
   ]
  },
  {
   "cell_type": "code",
   "execution_count": 14,
   "metadata": {},
   "outputs": [],
   "source": [
    "numchar = sum([len(k) for k in sorted_dict.keys()])"
   ]
  },
  {
   "cell_type": "code",
   "execution_count": 15,
   "metadata": {},
   "outputs": [
    {
     "name": "stdout",
     "output_type": "stream",
     "text": [
      "Total Number of char =  1129\n"
     ]
    }
   ],
   "source": [
    "print(\"Total Number of char = \", numchar)"
   ]
  },
  {
   "cell_type": "code",
   "execution_count": 16,
   "metadata": {},
   "outputs": [
    {
     "name": "stdout",
     "output_type": "stream",
     "text": [
      "Number of bytes = b2 = total number of char + 1 byte fir each term for storing term length -  1304\n"
     ]
    }
   ],
   "source": [
    "print(\"Number of bytes = b2 = total number of char + 1 byte fir each term for storing term length - \", (numchar + len(sorted_dict)))"
   ]
  },
  {
   "cell_type": "markdown",
   "metadata": {},
   "source": [
    "## String that represents the ‘‘dictionary as a string’’ with k=4"
   ]
  },
  {
   "cell_type": "code",
   "execution_count": 17,
   "metadata": {},
   "outputs": [],
   "source": [
    "l1 = list(sorted_dict.keys())\n",
    "l2 = [len(k) for k in sorted_dict.keys()]"
   ]
  },
  {
   "cell_type": "code",
   "execution_count": 18,
   "metadata": {},
   "outputs": [],
   "source": [
    "s2 = ''\n",
    "for i in range(len(l1)):\n",
    "    s2 += str(l2[i]) + l1[i]"
   ]
  },
  {
   "cell_type": "code",
   "execution_count": 19,
   "metadata": {},
   "outputs": [
    {
     "name": "stdout",
     "output_type": "stream",
     "text": [
      "The required string - \n"
     ]
    },
    {
     "data": {
      "text/plain": [
       "\"11420054200842009171a6abroad8academic6active8actively10activities7algebra10algorithms3all4also5among2an8analysis3and5arcus3are5areas2at9bangalore4been5being4best8bordeaux4both3bsc2by6cachan7carried6centre3cmi4cnrs13collaboration13collaborative10collection10complexity13computational8computer9computing11conferences10contribute9corporate7country2de10department6design11development12differential11distributed4each5ecole3ens9equations8exchange7faculty5field8flexible6formal4four6france6french4from6funded8geometry5group6groups6growth3had3has4have9honeywell4iisc3ile10impressive4imsc2in5india6indian4indo10industrial9initiated9institute12institutions8involved9involving2is7jointly5known10laboratory6levels4main6mainly12mathematical11mathematics7members7methods8ministry10networking7normale6number8nurtured2of8offering2on4open5other3out5paris11participate8partners3phd7physics9positions8problems9programme10programmes7project8projects4pune7pursued7quantum7ranking8recently6region7reputed8research6return7science10scientists8security6senior3set8siemens'8software9solutions13specification5spend9sponsored6string6strong8students6summer10superieure8supports7systems4tata8teaching10technology4that3the6theory5there5three4ties5timed2to3top8topology3two5under10university2up12verification5visit8visiting8visitors3was4with7working9workshops4year\""
      ]
     },
     "execution_count": 19,
     "metadata": {},
     "output_type": "execute_result"
    }
   ],
   "source": [
    "print(\"The required string - \")\n",
    "s2"
   ]
  },
  {
   "cell_type": "markdown",
   "metadata": {},
   "source": [
    "## Front-Coded string with k=4"
   ]
  },
  {
   "cell_type": "code",
   "execution_count": 20,
   "metadata": {},
   "outputs": [],
   "source": [
    "l = len(s2)"
   ]
  },
  {
   "cell_type": "code",
   "execution_count": null,
   "metadata": {},
   "outputs": [],
   "source": []
  },
  {
   "cell_type": "code",
   "execution_count": null,
   "metadata": {},
   "outputs": [],
   "source": []
  }
 ],
 "metadata": {
  "kernelspec": {
   "display_name": "Python [conda env:tf]",
   "language": "python",
   "name": "conda-env-tf-py"
  },
  "language_info": {
   "codemirror_mode": {
    "name": "ipython",
    "version": 3
   },
   "file_extension": ".py",
   "mimetype": "text/x-python",
   "name": "python",
   "nbconvert_exporter": "python",
   "pygments_lexer": "ipython3",
   "version": "3.7.7"
  }
 },
 "nbformat": 4,
 "nbformat_minor": 4
}
